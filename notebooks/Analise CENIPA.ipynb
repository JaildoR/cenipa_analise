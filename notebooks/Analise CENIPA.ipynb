{
 "cells": [
  {
   "cell_type": "markdown",
   "metadata": {},
   "source": [
    "# Análise das Ocorrências Aeronáuticas na Aviação Civil Brasileira\n",
    "\n",
    "**Data: 09-06-2022**\n",
    "\n",
    "**Autor: Jaildo Rocha**\n",
    "\n",
    "---\n",
    "\n",
    "No presente notebook busca-se obter, a partir da análise e exploração de dados, uma compreensão sobre causas das [ocorrências aeronáuticas na aviação civil](https://dados.gov.br/dataset/ocorrencias-aeronauticas-da-aviacao-civil-brasileira) e obter insights de possíveis melhorias na segurança da aviação civil. Para isso, este estudo foi dividido em etapas:\n",
    "\n",
    "* Pré processamento (importar pacotes e dados);\n",
    "* Verificação  e limpeza dos dados;\n",
    "* Análise exploratórias dos dados;\n",
    "* Conclusões; e\n",
    "* Recomendações para o prosseguimento do trabalho. \n",
    "\n",
    "Cabe realizar duas observações importantes para este estudo. O primeiro é que este estudo tem foco, principalmente, em aviões e helicópteros. Tal premissa decorre do entendimento que outros tipos de aeronaves (Trike, balão, ultraleve, planador, jidroavião e anfíbio) tem aspectos regulatórios que diferem bastante dos aviões e helicópteros. O segundo é que, pontualmente, serão utilizadas outras bases de dados, estudos ou informações para contextualizar este estudo."
   ]
  },
  {
   "cell_type": "markdown",
   "metadata": {},
   "source": [
    "## Pré processamento"
   ]
  },
  {
   "cell_type": "markdown",
   "metadata": {},
   "source": [
    "Primeiramente, realiza-se a importação das bibliotecas e uma configuração básica para as figuras."
   ]
  },
  {
   "cell_type": "code",
   "execution_count": 12,
   "metadata": {},
   "outputs": [],
   "source": [
    "import matplotlib.pyplot as plt\n",
    "import seaborn as sns\n",
    "import pandas as pd\n",
    "import numpy as np\n",
    "\n",
    "# set plot parameters\n",
    "custom_params = {'axes.spines.right': False, \n",
    "                 'axes.spines.top': False,\n",
    "                 'figure.figsize':(16,8)}\n",
    "sns.set_theme(style='ticks', rc = custom_params)"
   ]
  },
  {
   "cell_type": "markdown",
   "metadata": {},
   "source": [
    "Em seguida os dados das ocorrências são importados."
   ]
  },
  {
   "cell_type": "code",
   "execution_count": 20,
   "metadata": {},
   "outputs": [],
   "source": [
    "# tipos de valores não disponíveis\n",
    "list_na_values = ['*', '**', '***', '****', '*****',\n",
    "            'NULL', 'NÃO INFORMADO', '###', '###!', '####',]\n",
    "\n",
    "# read ocorrencia\n",
    "ocorrencia_df = pd.read_csv('../raw_data/ocorrencia.csv',\n",
    "                            sep = ';', encoding='utf8', \n",
    "                            na_values = list_na_values)\n",
    "\n",
    "# read tipo ocorrencia\n",
    "tipo_occ_df = pd.read_csv('../raw_data/ocorrencia_tipo.csv',\n",
    "                          sep = ';', encoding = 'utf8', \n",
    "                          na_values = list_na_values)\n",
    "\n",
    "# read aeronave\n",
    "aeronave_df = pd.read_csv('../raw_data/aeronave.csv',\n",
    "                          sep = ';', encoding = 'utf8', \n",
    "                          na_values = list_na_values)\n",
    "\n",
    "# read fator contribuinte\n",
    "fator_cont_df = pd.read_csv('../raw_data/fator_contribuinte.csv',\n",
    "                            sep = ';', encoding = 'utf8', \n",
    "                            na_values = list_na_values)\n",
    "\n",
    "# read recomendacao\n",
    "recomendacao_df = pd.read_csv('../raw_data/recomendacao.csv',\n",
    "                              sep = ';', encoding = 'utf8', \n",
    "                              na_values = list_na_values)"
   ]
  },
  {
   "cell_type": "markdown",
   "metadata": {},
   "source": [
    "Em seguida se faz uma breve verificação dos dados importados."
   ]
  },
  {
   "cell_type": "markdown",
   "metadata": {},
   "source": [
    "### Ocorrências"
   ]
  },
  {
   "cell_type": "code",
   "execution_count": 21,
   "metadata": {},
   "outputs": [
    {
     "name": "stdout",
     "output_type": "stream",
     "text": [
      "<class 'pandas.core.frame.DataFrame'>\n",
      "RangeIndex: 5167 entries, 0 to 5166\n",
      "Data columns (total 22 columns):\n",
      " #   Column                          Non-Null Count  Dtype \n",
      "---  ------                          --------------  ----- \n",
      " 0   codigo_ocorrencia               5167 non-null   int64 \n",
      " 1   codigo_ocorrencia1              5167 non-null   int64 \n",
      " 2   codigo_ocorrencia2              5167 non-null   int64 \n",
      " 3   codigo_ocorrencia3              5167 non-null   int64 \n",
      " 4   codigo_ocorrencia4              5167 non-null   int64 \n",
      " 5   ocorrencia_classificacao        5167 non-null   object\n",
      " 6   ocorrencia_latitude             3673 non-null   object\n",
      " 7   ocorrencia_longitude            3672 non-null   object\n",
      " 8   ocorrencia_cidade               5167 non-null   object\n",
      " 9   ocorrencia_uf                   5165 non-null   object\n",
      " 10  ocorrencia_pais                 5167 non-null   object\n",
      " 11  ocorrencia_aerodromo            3262 non-null   object\n",
      " 12  ocorrencia_dia                  5167 non-null   object\n",
      " 13  ocorrencia_hora                 5166 non-null   object\n",
      " 14  investigacao_aeronave_liberada  3389 non-null   object\n",
      " 15  investigacao_status             4910 non-null   object\n",
      " 16  divulgacao_relatorio_numero     1868 non-null   object\n",
      " 17  divulgacao_relatorio_publicado  5167 non-null   object\n",
      " 18  divulgacao_dia_publicacao       1351 non-null   object\n",
      " 19  total_recomendacoes             5167 non-null   int64 \n",
      " 20  total_aeronaves_envolvidas      5167 non-null   int64 \n",
      " 21  ocorrencia_saida_pista          5167 non-null   object\n",
      "dtypes: int64(7), object(15)\n",
      "memory usage: 888.2+ KB\n"
     ]
    }
   ],
   "source": [
    "ocorrencia_df.info()"
   ]
  },
  {
   "cell_type": "code",
   "execution_count": 26,
   "metadata": {},
   "outputs": [
    {
     "data": {
      "text/plain": [
       "codigo_ocorrencia                 5167\n",
       "codigo_ocorrencia1                5167\n",
       "codigo_ocorrencia2                5167\n",
       "codigo_ocorrencia3                5167\n",
       "codigo_ocorrencia4                5167\n",
       "ocorrencia_classificacao             3\n",
       "ocorrencia_latitude               2586\n",
       "ocorrencia_longitude              2589\n",
       "ocorrencia_cidade                 1053\n",
       "ocorrencia_uf                       27\n",
       "ocorrencia_pais                      1\n",
       "ocorrencia_aerodromo               512\n",
       "ocorrencia_dia                    2684\n",
       "ocorrencia_hora                    923\n",
       "investigacao_aeronave_liberada       2\n",
       "investigacao_status                  2\n",
       "divulgacao_relatorio_numero       1718\n",
       "divulgacao_relatorio_publicado       2\n",
       "divulgacao_dia_publicacao          179\n",
       "total_recomendacoes                 13\n",
       "total_aeronaves_envolvidas           3\n",
       "ocorrencia_saida_pista               2\n",
       "dtype: int64"
      ]
     },
     "execution_count": 26,
     "metadata": {},
     "output_type": "execute_result"
    }
   ],
   "source": [
    "ocorrencia_df.nunique()"
   ]
  },
  {
   "cell_type": "markdown",
   "metadata": {},
   "source": [
    "Como pode ser observado, há apenas uma ocorrência para cada linha. Aparentemente, os dados apresentam uma boa qualidade."
   ]
  },
  {
   "cell_type": "markdown",
   "metadata": {},
   "source": [
    "### Tipo de ocorrência"
   ]
  },
  {
   "cell_type": "code",
   "execution_count": 27,
   "metadata": {},
   "outputs": [
    {
     "name": "stdout",
     "output_type": "stream",
     "text": [
      "<class 'pandas.core.frame.DataFrame'>\n",
      "RangeIndex: 5347 entries, 0 to 5346\n",
      "Data columns (total 4 columns):\n",
      " #   Column                     Non-Null Count  Dtype \n",
      "---  ------                     --------------  ----- \n",
      " 0   codigo_ocorrencia1         5347 non-null   int64 \n",
      " 1   ocorrencia_tipo            5346 non-null   object\n",
      " 2   ocorrencia_tipo_categoria  5346 non-null   object\n",
      " 3   taxonomia_tipo_icao        5346 non-null   object\n",
      "dtypes: int64(1), object(3)\n",
      "memory usage: 167.2+ KB\n"
     ]
    }
   ],
   "source": [
    "tipo_occ_df.info()"
   ]
  },
  {
   "cell_type": "code",
   "execution_count": 28,
   "metadata": {},
   "outputs": [
    {
     "data": {
      "text/plain": [
       "codigo_ocorrencia1           5167\n",
       "ocorrencia_tipo                80\n",
       "ocorrencia_tipo_categoria      80\n",
       "taxonomia_tipo_icao            32\n",
       "dtype: int64"
      ]
     },
     "execution_count": 28,
     "metadata": {},
     "output_type": "execute_result"
    }
   ],
   "source": [
    "tipo_occ_df.nunique()"
   ]
  },
  {
   "cell_type": "markdown",
   "metadata": {},
   "source": [
    "No caso do tipo de ocorrência, um evento pode apresentar mais de um tipo ocorrência. Além disso, os dados aparentemente estão bem classificados."
   ]
  },
  {
   "cell_type": "markdown",
   "metadata": {},
   "source": [
    "### Aeronave"
   ]
  },
  {
   "cell_type": "code",
   "execution_count": 23,
   "metadata": {},
   "outputs": [
    {
     "name": "stdout",
     "output_type": "stream",
     "text": [
      "<class 'pandas.core.frame.DataFrame'>\n",
      "RangeIndex: 5235 entries, 0 to 5234\n",
      "Data columns (total 23 columns):\n",
      " #   Column                       Non-Null Count  Dtype  \n",
      "---  ------                       --------------  -----  \n",
      " 0   codigo_ocorrencia2           5235 non-null   int64  \n",
      " 1   aeronave_matricula           5221 non-null   object \n",
      " 2   aeronave_operador_categoria  2287 non-null   object \n",
      " 3   aeronave_tipo_veiculo        5080 non-null   object \n",
      " 4   aeronave_fabricante          4887 non-null   object \n",
      " 5   aeronave_modelo              5065 non-null   object \n",
      " 6   aeronave_tipo_icao           4970 non-null   object \n",
      " 7   aeronave_motor_tipo          5003 non-null   object \n",
      " 8   aeronave_motor_quantidade    5143 non-null   object \n",
      " 9   aeronave_pmd                 5235 non-null   int64  \n",
      " 10  aeronave_pmd_categoria       5235 non-null   int64  \n",
      " 11  aeronave_assentos            5041 non-null   float64\n",
      " 12  aeronave_ano_fabricacao      5035 non-null   float64\n",
      " 13  aeronave_pais_fabricante     5235 non-null   object \n",
      " 14  aeronave_pais_registro       5235 non-null   object \n",
      " 15  aeronave_registro_categoria  5080 non-null   object \n",
      " 16  aeronave_registro_segmento   5163 non-null   object \n",
      " 17  aeronave_voo_origem          5050 non-null   object \n",
      " 18  aeronave_voo_destino         5052 non-null   object \n",
      " 19  aeronave_fase_operacao       5209 non-null   object \n",
      " 20  aeronave_tipo_operacao       5094 non-null   object \n",
      " 21  aeronave_nivel_dano          5188 non-null   object \n",
      " 22  aeronave_fatalidades_total   5235 non-null   int64  \n",
      "dtypes: float64(2), int64(4), object(17)\n",
      "memory usage: 940.8+ KB\n"
     ]
    }
   ],
   "source": [
    "aeronave_df.info()"
   ]
  },
  {
   "cell_type": "code",
   "execution_count": 29,
   "metadata": {},
   "outputs": [
    {
     "data": {
      "text/plain": [
       "codigo_ocorrencia2             5167\n",
       "aeronave_matricula             3901\n",
       "aeronave_operador_categoria      10\n",
       "aeronave_tipo_veiculo             9\n",
       "aeronave_fabricante             233\n",
       "aeronave_modelo                 737\n",
       "aeronave_tipo_icao              229\n",
       "aeronave_motor_tipo               5\n",
       "aeronave_motor_quantidade         5\n",
       "aeronave_pmd                    459\n",
       "aeronave_pmd_categoria          459\n",
       "aeronave_assentos                86\n",
       "aeronave_ano_fabricacao          80\n",
       "aeronave_pais_fabricante         23\n",
       "aeronave_pais_registro           23\n",
       "aeronave_registro_categoria       9\n",
       "aeronave_registro_segmento       12\n",
       "aeronave_voo_origem             677\n",
       "aeronave_voo_destino            674\n",
       "aeronave_fase_operacao           31\n",
       "aeronave_tipo_operacao            9\n",
       "aeronave_nivel_dano               4\n",
       "aeronave_fatalidades_total       10\n",
       "dtype: int64"
      ]
     },
     "execution_count": 29,
     "metadata": {},
     "output_type": "execute_result"
    }
   ],
   "source": [
    "aeronave_df.nunique()"
   ]
  },
  {
   "cell_type": "markdown",
   "metadata": {},
   "source": [
    "No caso do dataframe das aeronaves, são observados uma maior quantidade de problemas, uma vez que, algumas aeronaves não apresentam matricula, alguns veículos não são tipificados, a classificação quanto ao peso máximo de decolagem (PMD) parece não existir."
   ]
  },
  {
   "cell_type": "markdown",
   "metadata": {},
   "source": [
    "### Fator de contribuição para ocorrência"
   ]
  },
  {
   "cell_type": "code",
   "execution_count": 31,
   "metadata": {},
   "outputs": [
    {
     "name": "stdout",
     "output_type": "stream",
     "text": [
      "<class 'pandas.core.frame.DataFrame'>\n",
      "RangeIndex: 3464 entries, 0 to 3463\n",
      "Data columns (total 5 columns):\n",
      " #   Column               Non-Null Count  Dtype \n",
      "---  ------               --------------  ----- \n",
      " 0   codigo_ocorrencia3   3464 non-null   int64 \n",
      " 1   fator_nome           3464 non-null   object\n",
      " 2   fator_aspecto        3445 non-null   object\n",
      " 3   fator_condicionante  3110 non-null   object\n",
      " 4   fator_area           3445 non-null   object\n",
      "dtypes: int64(1), object(4)\n",
      "memory usage: 135.4+ KB\n"
     ]
    }
   ],
   "source": [
    "fator_cont_df.info()"
   ]
  },
  {
   "cell_type": "code",
   "execution_count": null,
   "metadata": {},
   "outputs": [],
   "source": []
  },
  {
   "cell_type": "code",
   "execution_count": null,
   "metadata": {},
   "outputs": [],
   "source": []
  },
  {
   "cell_type": "code",
   "execution_count": null,
   "metadata": {},
   "outputs": [],
   "source": []
  },
  {
   "cell_type": "code",
   "execution_count": null,
   "metadata": {},
   "outputs": [],
   "source": []
  },
  {
   "cell_type": "code",
   "execution_count": null,
   "metadata": {},
   "outputs": [],
   "source": []
  },
  {
   "cell_type": "code",
   "execution_count": null,
   "metadata": {},
   "outputs": [],
   "source": []
  }
 ],
 "metadata": {
  "interpreter": {
   "hash": "97697a9f085d46b5344dbd0e4b882f240eaa65ca19643f09a3c2c268ce01a48d"
  },
  "kernelspec": {
   "display_name": "Python 3.8.12 64-bit ('lewagon')",
   "language": "python",
   "name": "python3"
  },
  "language_info": {
   "codemirror_mode": {
    "name": "ipython",
    "version": 3
   },
   "file_extension": ".py",
   "mimetype": "text/x-python",
   "name": "python",
   "nbconvert_exporter": "python",
   "pygments_lexer": "ipython3",
   "version": "3.8.12"
  },
  "orig_nbformat": 4
 },
 "nbformat": 4,
 "nbformat_minor": 2
}
